{
 "cells": [
  {
   "cell_type": "code",
   "execution_count": 1,
   "id": "e061ef2c",
   "metadata": {},
   "outputs": [],
   "source": [
    "from binance.client import Client \n",
    "from binance import ThreadedWebsocketManager\n",
    "import pandas as pd\n",
    "import numpy as np"
   ]
  },
  {
   "cell_type": "code",
   "execution_count": 2,
   "id": "79702c09",
   "metadata": {},
   "outputs": [],
   "source": [
    "client = Client(api_key = \"\", api_secret = \"\",testnet=True,tld = \"com\")"
   ]
  },
  {
   "cell_type": "code",
   "execution_count": 3,
   "id": "566a65c8",
   "metadata": {},
   "outputs": [
    {
     "data": {
      "text/plain": [
       "{'makerCommission': 0,\n",
       " 'takerCommission': 0,\n",
       " 'buyerCommission': 0,\n",
       " 'sellerCommission': 0,\n",
       " 'commissionRates': {'maker': '0.00000000',\n",
       "  'taker': '0.00000000',\n",
       "  'buyer': '0.00000000',\n",
       "  'seller': '0.00000000'},\n",
       " 'canTrade': True,\n",
       " 'canWithdraw': False,\n",
       " 'canDeposit': False,\n",
       " 'brokered': False,\n",
       " 'requireSelfTradePrevention': False,\n",
       " 'updateTime': 1676532524957,\n",
       " 'accountType': 'SPOT',\n",
       " 'balances': [{'asset': 'BNB',\n",
       "   'free': '1000.00000000',\n",
       "   'locked': '0.00000000'},\n",
       "  {'asset': 'BTC', 'free': '1.00000000', 'locked': '0.00000000'},\n",
       "  {'asset': 'BUSD', 'free': '10000.00000000', 'locked': '0.00000000'},\n",
       "  {'asset': 'ETH', 'free': '100.00000000', 'locked': '0.00000000'},\n",
       "  {'asset': 'LTC', 'free': '500.00000000', 'locked': '0.00000000'},\n",
       "  {'asset': 'TRX', 'free': '500000.00000000', 'locked': '0.00000000'},\n",
       "  {'asset': 'USDT', 'free': '10005.50376787', 'locked': '0.00000000'},\n",
       "  {'asset': 'XRP', 'free': '50000.00000000', 'locked': '0.00000000'}],\n",
       " 'permissions': ['SPOT']}"
      ]
     },
     "execution_count": 3,
     "metadata": {},
     "output_type": "execute_result"
    }
   ],
   "source": [
    "client.get_account()"
   ]
  },
  {
   "cell_type": "code",
   "execution_count": 4,
   "id": "2f842fe5",
   "metadata": {},
   "outputs": [],
   "source": [
    "#buy 0.1 btc when certain condition met"
   ]
  },
  {
   "cell_type": "code",
   "execution_count": 5,
   "id": "bd2c0f16",
   "metadata": {},
   "outputs": [
    {
     "data": {
      "text/plain": [
       "4"
      ]
     },
     "execution_count": 5,
     "metadata": {},
     "output_type": "execute_result"
    }
   ],
   "source": [
    "40214%10"
   ]
  },
  {
   "cell_type": "code",
   "execution_count": 7,
   "id": "d6246d0b",
   "metadata": {},
   "outputs": [],
   "source": [
    "#init and start the websocket\n",
    "twn = ThreadedWebsocketManager()\n",
    "twn.start()"
   ]
  },
  {
   "cell_type": "code",
   "execution_count": 15,
   "id": "f2a59c28",
   "metadata": {},
   "outputs": [],
   "source": [
    "def simple_bot(msg):\n",
    "    \"\"\"define how to  processes icoming websocket message\"\"\"\n",
    "    \n",
    "    time = pd.to_datetime( msg[\"E\"],unit = \"ms\" )\n",
    "    price = float(msg[\"c\"])\n",
    "    \n",
    "    print(\"time: {} | price{}\".format(time,price))\n",
    "    \n",
    "    if int(price)%10 == 0:\n",
    "        order = client.create_order(symbol = \"BTCUSDT\", side = \"BUY\", type = \"MARKET\", quantity = 0.1)\n",
    "        print(\"\\n\"+50 * \"-\")\n",
    "        print(\"Buy {} BTC for {} usdt \".format(order[\"executedQty\"],order[\"cummulativeQuoteQty\"]))\n",
    "        print(50*\"-\"+\"\\n\")\n",
    "        twn.stop()\n",
    "    \n",
    "    "
   ]
  },
  {
   "cell_type": "code",
   "execution_count": 16,
   "id": "40d26873",
   "metadata": {},
   "outputs": [
    {
     "data": {
      "text/plain": [
       "'btcusdt@miniTicker'"
      ]
     },
     "execution_count": 16,
     "metadata": {},
     "output_type": "execute_result"
    },
    {
     "name": "stdout",
     "output_type": "stream",
     "text": [
      "time: 2023-02-16 08:35:20.970000 | price24647.13\n",
      "time: 2023-02-16 08:35:21.843000 | price24647.84\n",
      "time: 2023-02-16 08:35:22.847000 | price24647.09\n",
      "time: 2023-02-16 08:35:23.940000 | price24645.72\n",
      "time: 2023-02-16 08:35:24.969000 | price24646.84\n",
      "time: 2023-02-16 08:35:25.911000 | price24646.02\n",
      "time: 2023-02-16 08:35:26.730000 | price24646.11\n",
      "time: 2023-02-16 08:35:27.952000 | price24646.09\n",
      "time: 2023-02-16 08:35:28.972000 | price24644.52\n",
      "time: 2023-02-16 08:35:29.981000 | price24644.14\n",
      "time: 2023-02-16 08:35:30.982000 | price24645.2\n",
      "time: 2023-02-16 08:35:31.984000 | price24643.05\n",
      "time: 2023-02-16 08:35:32.972000 | price24643.29\n",
      "time: 2023-02-16 08:35:33.994000 | price24643.54\n",
      "time: 2023-02-16 08:35:34.944000 | price24641.87\n",
      "time: 2023-02-16 08:35:35.966000 | price24642.33\n",
      "time: 2023-02-16 08:35:36.993000 | price24641.28\n",
      "time: 2023-02-16 08:35:37.718000 | price24641.7\n",
      "time: 2023-02-16 08:35:39.001000 | price24642.31\n",
      "time: 2023-02-16 08:35:40.010000 | price24641.77\n",
      "time: 2023-02-16 08:35:40.990000 | price24641.38\n",
      "time: 2023-02-16 08:35:41.937000 | price24642.13\n",
      "time: 2023-02-16 08:35:43.014000 | price24641.03\n",
      "time: 2023-02-16 08:35:44.017000 | price24639.79\n",
      "time: 2023-02-16 08:35:45.026000 | price24639.07\n",
      "time: 2023-02-16 08:35:46.019000 | price24637.22\n",
      "time: 2023-02-16 08:35:46.925000 | price24635.47\n",
      "time: 2023-02-16 08:35:48.029000 | price24635.23\n",
      "time: 2023-02-16 08:35:48.999000 | price24634.31\n",
      "time: 2023-02-16 08:35:50.027000 | price24633.23\n",
      "time: 2023-02-16 08:35:51.009000 | price24632.06\n",
      "time: 2023-02-16 08:35:51.961000 | price24633.98\n",
      "time: 2023-02-16 08:35:52.965000 | price24632.16\n",
      "time: 2023-02-16 08:35:54.014000 | price24632.86\n",
      "time: 2023-02-16 08:35:55.032000 | price24631.69\n",
      "time: 2023-02-16 08:35:56.021000 | price24630.31\n",
      "\n",
      "--------------------------------------------------\n",
      "Buy 0.10000000 BTC for 2463.23974960 usdt \n",
      "--------------------------------------------------\n",
      "\n"
     ]
    }
   ],
   "source": [
    "# subscribe to the stream\n",
    "twn.start_symbol_miniticker_socket(callback = simple_bot, symbol = \"BTCUSDT\")"
   ]
  },
  {
   "cell_type": "code",
   "execution_count": 17,
   "id": "a3da8b83",
   "metadata": {},
   "outputs": [
    {
     "data": {
      "text/plain": [
       "{'makerCommission': 0,\n",
       " 'takerCommission': 0,\n",
       " 'buyerCommission': 0,\n",
       " 'sellerCommission': 0,\n",
       " 'commissionRates': {'maker': '0.00000000',\n",
       "  'taker': '0.00000000',\n",
       "  'buyer': '0.00000000',\n",
       "  'seller': '0.00000000'},\n",
       " 'canTrade': True,\n",
       " 'canWithdraw': False,\n",
       " 'canDeposit': False,\n",
       " 'brokered': False,\n",
       " 'requireSelfTradePrevention': False,\n",
       " 'updateTime': 1676536556935,\n",
       " 'accountType': 'SPOT',\n",
       " 'balances': [{'asset': 'BNB',\n",
       "   'free': '1000.00000000',\n",
       "   'locked': '0.00000000'},\n",
       "  {'asset': 'BTC', 'free': '1.20000000', 'locked': '0.00000000'},\n",
       "  {'asset': 'BUSD', 'free': '10000.00000000', 'locked': '0.00000000'},\n",
       "  {'asset': 'ETH', 'free': '100.00000000', 'locked': '0.00000000'},\n",
       "  {'asset': 'LTC', 'free': '500.00000000', 'locked': '0.00000000'},\n",
       "  {'asset': 'TRX', 'free': '500000.00000000', 'locked': '0.00000000'},\n",
       "  {'asset': 'USDT', 'free': '5077.01104899', 'locked': '0.00000000'},\n",
       "  {'asset': 'XRP', 'free': '50000.00000000', 'locked': '0.00000000'}],\n",
       " 'permissions': ['SPOT']}"
      ]
     },
     "execution_count": 17,
     "metadata": {},
     "output_type": "execute_result"
    }
   ],
   "source": [
    "client.get_account()"
   ]
  },
  {
   "cell_type": "code",
   "execution_count": null,
   "id": "244b4b64",
   "metadata": {},
   "outputs": [],
   "source": []
  }
 ],
 "metadata": {
  "kernelspec": {
   "display_name": "Python 3 (ipykernel)",
   "language": "python",
   "name": "python3"
  },
  "language_info": {
   "codemirror_mode": {
    "name": "ipython",
    "version": 3
   },
   "file_extension": ".py",
   "mimetype": "text/x-python",
   "name": "python",
   "nbconvert_exporter": "python",
   "pygments_lexer": "ipython3",
   "version": "3.9.13"
  }
 },
 "nbformat": 4,
 "nbformat_minor": 5
}
